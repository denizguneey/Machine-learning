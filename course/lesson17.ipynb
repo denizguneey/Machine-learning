{
 "cells": [
  {
   "cell_type": "code",
   "execution_count": 4,
   "metadata": {},
   "outputs": [
    {
     "name": "stdout",
     "output_type": "stream",
     "text": [
      "['e' 'e' 'e' 'e' 'k' 'e' 'e' 'e']\n",
      "[['k']\n",
      " ['k']\n",
      " ['k']\n",
      " ['k']\n",
      " ['e']\n",
      " ['k']\n",
      " ['k']\n",
      " ['k']]\n",
      "[[0 1]\n",
      " [7 0]]\n",
      "[[1 0]\n",
      " [1 6]]\n"
     ]
    },
    {
     "name": "stderr",
     "output_type": "stream",
     "text": [
      "/Library/Frameworks/Python.framework/Versions/3.11/lib/python3.11/site-packages/sklearn/utils/validation.py:1183: DataConversionWarning: A column-vector y was passed when a 1d array was expected. Please change the shape of y to (n_samples, ), for example using ravel().\n",
      "  y = column_or_1d(y, warn=True)\n",
      "/Library/Frameworks/Python.framework/Versions/3.11/lib/python3.11/site-packages/sklearn/neighbors/_classification.py:233: DataConversionWarning: A column-vector y was passed when a 1d array was expected. Please change the shape of y to (n_samples,), for example using ravel().\n",
      "  return self._fit(X, y)\n"
     ]
    }
   ],
   "source": [
    "import numpy as np\n",
    "import matplotlib.pyplot as plt\n",
    "import pandas as pd\n",
    "\n",
    "data=pd.read_csv('../datasources/veriler.csv')\n",
    "#print(data)\n",
    "\n",
    "x=data.iloc[:,1:4].values #non-linear variables\n",
    "y=data.iloc[:,4:].values  #linear variables\n",
    "\n",
    "from sklearn.model_selection import train_test_split\n",
    "x_train,x_test,y_train,y_test=train_test_split(x,y,test_size=0.33,random_state=0)\n",
    "\n",
    "from sklearn.preprocessing import StandardScaler\n",
    "\n",
    "standardScaler=StandardScaler()\n",
    "X_train=standardScaler.fit_transform(x_train)\n",
    "X_test=standardScaler.transform(x_test)\n",
    "\n",
    "from sklearn.linear_model import LogisticRegression\n",
    "logisticRegression=LogisticRegression(random_state=0)\n",
    "logisticRegression.fit(X_train,y_train)\n",
    "\n",
    "y_prediction=logisticRegression.predict(X_test)\n",
    "print(y_prediction)\n",
    "\n",
    "print(y_test)\n",
    "\n",
    "from sklearn.metrics import confusion_matrix\n",
    "confusionMatrix=confusion_matrix(y_test,y_prediction)\n",
    "print(confusionMatrix)\n",
    "\n",
    "from sklearn.neighbors import KNeighborsClassifier\n",
    "\n",
    "knn=KNeighborsClassifier(n_neighbors=1,metric='minkowski')\n",
    "knn.fit(X_train,y_train)\n",
    "\n",
    "y_prediction=knn.predict(X_test)\n",
    "confusionMatrix=confusion_matrix(y_test,y_prediction)\n",
    "print(confusionMatrix)"
   ]
  }
 ],
 "metadata": {
  "kernelspec": {
   "display_name": "Python 3",
   "language": "python",
   "name": "python3"
  },
  "language_info": {
   "codemirror_mode": {
    "name": "ipython",
    "version": 3
   },
   "file_extension": ".py",
   "mimetype": "text/x-python",
   "name": "python",
   "nbconvert_exporter": "python",
   "pygments_lexer": "ipython3",
   "version": "3.11.4"
  }
 },
 "nbformat": 4,
 "nbformat_minor": 2
}
