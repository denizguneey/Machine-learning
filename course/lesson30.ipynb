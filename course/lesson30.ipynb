{
 "cells": [
  {
   "cell_type": "code",
   "execution_count": 1,
   "metadata": {},
   "outputs": [
    {
     "name": "stdout",
     "output_type": "stream",
     "text": [
      "reel / without PCA\n",
      "[[14  0  0]\n",
      " [ 0 16  0]\n",
      " [ 0  0  6]]\n",
      "reel / with PCA\n",
      "[[14  0  0]\n",
      " [ 1 15  0]\n",
      " [ 0  0  6]]\n",
      "with PCA and without PCA\n",
      "[[14  0  0]\n",
      " [ 1 15  0]\n",
      " [ 0  0  6]]\n"
     ]
    }
   ],
   "source": [
    "import numpy as np\n",
    "import matplotlib.pyplot as plt\n",
    "import pandas as pd\n",
    "\n",
    "\n",
    "data = pd.read_csv('../datasources/Wine.csv')\n",
    "X = data.iloc[:, 0:13].values\n",
    "y = data.iloc[:, 13].values\n",
    "\n",
    "#Training and testing\n",
    "from sklearn.model_selection import train_test_split\n",
    "X_train, X_test, y_train, y_test = train_test_split(X, y, test_size = 0.2, random_state = 0)\n",
    "\n",
    "\n",
    "from sklearn.preprocessing import StandardScaler\n",
    "sc = StandardScaler()\n",
    "X_train = sc.fit_transform(X_train)\n",
    "X_test = sc.transform(X_test)\n",
    "\n",
    "#Principal Component Analysis\n",
    "from sklearn.decomposition import PCA\n",
    "principalComponentAnalysis = PCA(n_components = 2)\n",
    "\n",
    "X_train2 = principalComponentAnalysis.fit_transform(X_train)\n",
    "X_test2 = principalComponentAnalysis.transform(X_test)\n",
    "\n",
    "#Logistic Regression\n",
    "from sklearn.linear_model import LogisticRegression\n",
    "classifier = LogisticRegression(random_state=0)\n",
    "classifier.fit(X_train,y_train)\n",
    "\n",
    "\n",
    "classifier2 = LogisticRegression(random_state=0)\n",
    "classifier2.fit(X_train2,y_train)\n",
    "\n",
    "#predictions\n",
    "y_pred = classifier.predict(X_test)\n",
    "y_pred2 = classifier2.predict(X_test2)\n",
    "\n",
    "from sklearn.metrics import confusion_matrix\n",
    "\n",
    "print('reel / without PCA')\n",
    "cm = confusion_matrix(y_test,y_pred)\n",
    "print(cm)\n",
    "\n",
    "\n",
    "print(\"reel / with PCA\" )\n",
    "cm2 = confusion_matrix(y_test,y_pred2)\n",
    "print(cm2)\n",
    "\n",
    "\n",
    "print('with PCA and without PCA')\n",
    "cm3 = confusion_matrix(y_pred,y_pred2)\n",
    "print(cm3)\n",
    "\n",
    "\n"
   ]
  }
 ],
 "metadata": {
  "kernelspec": {
   "display_name": "Python 3",
   "language": "python",
   "name": "python3"
  },
  "language_info": {
   "codemirror_mode": {
    "name": "ipython",
    "version": 3
   },
   "file_extension": ".py",
   "mimetype": "text/x-python",
   "name": "python",
   "nbconvert_exporter": "python",
   "pygments_lexer": "ipython3",
   "version": "3.11.4"
  }
 },
 "nbformat": 4,
 "nbformat_minor": 2
}
