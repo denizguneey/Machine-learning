{
 "cells": [
  {
   "cell_type": "code",
   "execution_count": 1,
   "metadata": {},
   "outputs": [
    {
     "name": "stdout",
     "output_type": "stream",
     "text": [
      "[[64  4]\n",
      " [ 3 29]]\n",
      "0.8999999999999999\n",
      "0.03590109871423001\n",
      "0.9099999999999999\n",
      "{'C': 1, 'gamma': 1, 'kernel': 'rbf'}\n"
     ]
    }
   ],
   "source": [
    "\n",
    "import numpy as np\n",
    "import matplotlib.pyplot as plt\n",
    "import pandas as pd\n",
    "\n",
    "data = pd.read_csv('../datasources/Social_Network_Ads.csv')\n",
    "X = data.iloc[:, [2, 3]].values\n",
    "y = data.iloc[:, 4].values\n",
    "\n",
    "from sklearn.model_selection import train_test_split\n",
    "X_train, X_test, y_train, y_test = train_test_split(X, y, test_size = 0.25, random_state = 0)\n",
    "\n",
    "\n",
    "from sklearn.preprocessing import StandardScaler\n",
    "sc = StandardScaler()\n",
    "X_train = sc.fit_transform(X_train)\n",
    "X_test = sc.transform(X_test)\n",
    "\n",
    "#SVM\n",
    "from sklearn.svm import SVC\n",
    "classifier = SVC(kernel = 'rbf', random_state = 0)\n",
    "classifier.fit(X_train, y_train)\n",
    "\n",
    "\n",
    "y_pred = classifier.predict(X_test)\n",
    "\n",
    "\n",
    "from sklearn.metrics import confusion_matrix\n",
    "cm = confusion_matrix(y_test, y_pred)\n",
    "\n",
    "print(cm)\n",
    "\n",
    "\n",
    "\n",
    "from sklearn.model_selection import cross_val_score\n",
    "\n",
    "success = cross_val_score(estimator = classifier, X=X_train, y=y_train , cv = 4)\n",
    "print(success.mean())\n",
    "print(success.std())\n",
    "\n",
    "\n",
    "\n",
    "# parameter optimization and algorithm selection\n",
    "from sklearn.model_selection import GridSearchCV\n",
    "p = [{'C':[1,2,3,4,5],'kernel':['linear']}, {'C':[1,2,3,4,5] ,'kernel':['rbf'],'gamma':[1,0.5,0.1,0.01,0.001]} ]\n",
    "\n",
    "'''\n",
    "GSCV parameters\n",
    "estimator: classification algorithm (what we want to optimize)\n",
    "param_grid : parameters/ things to try\n",
    "scoring: on what basis will it be scored: ex: accuracy\n",
    "cv: how many folds it will have\n",
    "n_jobs: job to run at the same time\n",
    "'''\n",
    "gs = GridSearchCV(estimator= classifier, param_grid = p, scoring =  'accuracy',cv = 10, n_jobs = -1)\n",
    "\n",
    "grid_search = gs.fit(X_train,y_train)\n",
    "bestresult = grid_search.best_score_\n",
    "bestparameters = grid_search.best_params_\n",
    "\n",
    "print(bestresult)\n",
    "print(bestparameters)"
   ]
  }
 ],
 "metadata": {
  "kernelspec": {
   "display_name": "Python 3",
   "language": "python",
   "name": "python3"
  },
  "language_info": {
   "codemirror_mode": {
    "name": "ipython",
    "version": 3
   },
   "file_extension": ".py",
   "mimetype": "text/x-python",
   "name": "python",
   "nbconvert_exporter": "python",
   "pygments_lexer": "ipython3",
   "version": "3.11.4"
  }
 },
 "nbformat": 4,
 "nbformat_minor": 2
}
