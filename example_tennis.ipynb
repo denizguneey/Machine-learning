{
 "cells": [
  {
   "cell_type": "code",
   "execution_count": 6,
   "metadata": {},
   "outputs": [
    {
     "ename": "TypeError",
     "evalue": "OneHotEncoder.__init__() got an unexpected keyword argument 'categorical_features'",
     "output_type": "error",
     "traceback": [
      "\u001b[0;31m---------------------------------------------------------------------------\u001b[0m",
      "\u001b[0;31mTypeError\u001b[0m                                 Traceback (most recent call last)",
      "\u001b[1;32m/Users/denizguney/Desktop/Machine learning/example_tennis.ipynb Hücre 1\u001b[0m line \u001b[0;36m2\n\u001b[1;32m     <a href='vscode-notebook-cell:/Users/denizguney/Desktop/Machine%20learning/example_tennis.ipynb#W0sZmlsZQ%3D%3D?line=26'>27</a>\u001b[0m c \u001b[39m=\u001b[39m veriler2\u001b[39m.\u001b[39miloc[:,:\u001b[39m1\u001b[39m]\n\u001b[1;32m     <a href='vscode-notebook-cell:/Users/denizguney/Desktop/Machine%20learning/example_tennis.ipynb#W0sZmlsZQ%3D%3D?line=27'>28</a>\u001b[0m \u001b[39mfrom\u001b[39;00m \u001b[39msklearn\u001b[39;00m\u001b[39m.\u001b[39;00m\u001b[39mpreprocessing\u001b[39;00m \u001b[39mimport\u001b[39;00m OneHotEncoder\n\u001b[0;32m---> <a href='vscode-notebook-cell:/Users/denizguney/Desktop/Machine%20learning/example_tennis.ipynb#W0sZmlsZQ%3D%3D?line=28'>29</a>\u001b[0m ohe \u001b[39m=\u001b[39m OneHotEncoder(categorical_features\u001b[39m=\u001b[39;49m\u001b[39m'\u001b[39;49m\u001b[39mall\u001b[39;49m\u001b[39m'\u001b[39;49m)\n\u001b[1;32m     <a href='vscode-notebook-cell:/Users/denizguney/Desktop/Machine%20learning/example_tennis.ipynb#W0sZmlsZQ%3D%3D?line=29'>30</a>\u001b[0m c\u001b[39m=\u001b[39mohe\u001b[39m.\u001b[39mfit_transform(c)\u001b[39m.\u001b[39mtoarray()\n\u001b[1;32m     <a href='vscode-notebook-cell:/Users/denizguney/Desktop/Machine%20learning/example_tennis.ipynb#W0sZmlsZQ%3D%3D?line=30'>31</a>\u001b[0m \u001b[39mprint\u001b[39m(c)\n",
      "\u001b[0;31mTypeError\u001b[0m: OneHotEncoder.__init__() got an unexpected keyword argument 'categorical_features'"
     ]
    }
   ],
   "source": [
    "\n",
    "import numpy as np\n",
    "import matplotlib.pyplot as plt\n",
    "import pandas as pd\n",
    "\n",
    "veriler = pd.read_csv('example_tennis.csv')\n",
    "\n",
    "from sklearn.preprocessing import LabelEncoder\n",
    "veriler2 = veriler.apply(LabelEncoder().fit_transform)\n",
    "\n",
    "c = veriler2.iloc[:,:1]\n",
    "from sklearn.preprocessing import OneHotEncoder\n",
    "ohe = OneHotEncoder(categorical_features='all')\n",
    "c=ohe.fit_transform(c).toarray()\n",
    "print(c)\n",
    "\n",
    "havadurumu = pd.DataFrame(data = c, index = range(14), columns=['o','r','s'])\n",
    "sonveriler = pd.concat([havadurumu,veriler.iloc[:,1:3]],axis = 1)\n",
    "sonveriler = pd.concat([veriler2.iloc[:,-2:],sonveriler], axis = 1)\n",
    "\n",
    "\n",
    "\n",
    "from sklearn.cross_validation import train_test_split\n",
    "x_train, x_test,y_train,y_test = train_test_split(sonveriler.iloc[:,:-1],sonveriler.iloc[:,-1:],test_size=0.33, random_state=0)\n",
    "\n",
    "from sklearn.linear_model import LinearRegression\n",
    "regressor = LinearRegression()\n",
    "regressor.fit(x_train,y_train)\n",
    "\n",
    "\n",
    "y_pred = regressor.predict(x_test)\n",
    "\n",
    "print(y_pred)\n",
    "\n",
    "import statsmodels.formula.api as sm \n",
    "X = np.append(arr = np.ones((14,1)).astype(int), values=sonveriler.iloc[:,:-1], axis=1 )\n",
    "X_l = sonveriler.iloc[:,[0,1,2,3,4,5]].values\n",
    "r_ols = sm.OLS(endog = sonveriler.iloc[:,-1:], exog =X_l)\n",
    "r = r_ols.fit()\n",
    "print(r.summary())\n",
    "\n",
    "sonveriler = sonveriler.iloc[:,1:]\n",
    "\n",
    "import statsmodels.formula.api as sm \n",
    "X = np.append(arr = np.ones((14,1)).astype(int), values=sonveriler.iloc[:,:-1], axis=1 )\n",
    "X_l = sonveriler.iloc[:,[0,1,2,3,4]].values\n",
    "r_ols = sm.OLS(endog = sonveriler.iloc[:,-1:], exog =X_l)\n",
    "r = r_ols.fit()\n",
    "print(r.summary())\n",
    "\n",
    "x_train = x_train.iloc[:,1:]\n",
    "x_test = x_test.iloc[:,1:]\n",
    "\n",
    "regressor.fit(x_train,y_train)\n",
    "\n",
    "\n",
    "y_pred = regressor.predict(x_test)\n",
    "\n"
   ]
  }
 ],
 "metadata": {
  "kernelspec": {
   "display_name": "Python 3",
   "language": "python",
   "name": "python3"
  },
  "language_info": {
   "codemirror_mode": {
    "name": "ipython",
    "version": 3
   },
   "file_extension": ".py",
   "mimetype": "text/x-python",
   "name": "python",
   "nbconvert_exporter": "python",
   "pygments_lexer": "ipython3",
   "version": "3.11.4"
  },
  "orig_nbformat": 4
 },
 "nbformat": 4,
 "nbformat_minor": 2
}
